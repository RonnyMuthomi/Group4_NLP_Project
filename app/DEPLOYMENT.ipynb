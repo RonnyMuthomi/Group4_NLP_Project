{
 "cells": [
  {
   "cell_type": "markdown",
   "id": "208bf08f",
   "metadata": {},
   "source": [
    "## DEPLOYMENT"
   ]
  },
  {
   "cell_type": "markdown",
   "id": "304ed95b",
   "metadata": {},
   "source": [
    "## Objective\n",
    "We developed a machine learning model to automatically classify tweets about Apple into one of three sentiments: positive, neutral, or negative. This enables scalable and automated social media sentiment monitoring."
   ]
  },
  {
   "cell_type": "markdown",
   "id": "d153e2b4",
   "metadata": {},
   "source": [
    "## Dataset Source\n",
    "We used a labeled dataset from Crowdflower via Data.World, which is highly suitable for NLP due to its authentic, user-generated tweet content and clearly annotated sentiment labels."
   ]
  },
  {
   "cell_type": "markdown",
   "id": "39603cc0",
   "metadata": {},
   "source": [
    "## Model Summary\n",
    "\n",
    "- Preprocessed tweets using TF-IDF vectorization\n",
    "\n",
    "- Trained and compared five models:\n",
    "Logistic Regression, Naive Bayes, KNN, XGBoost, and Random Forest\n",
    "\n",
    "- Used weighted F1 score as our key metric\n",
    "\n",
    "- Best model: Random Forest\n",
    "\n",
    "Accuracy: 0.68\n",
    "\n",
    "F1 Score: 0.65"
   ]
  },
  {
   "cell_type": "markdown",
   "id": "396dfb09",
   "metadata": {},
   "source": [
    "## Deployment Approach\n",
    "\n",
    "We deployed the selected Random Forest model using Streamlit, a lightweight and fast UI framework ideal for quick ML app development.\n",
    "\n",
    "The trained pipeline was serialized with joblib and integrated into a custom web interface.\n",
    "\n",
    "The app allows users to enter any tweet, and the model will instantly classify it into one of the four real-world sentiment classes:\n",
    "\n",
    "  - Positive emotion\n",
    "\n",
    "  - Negative emotion\n",
    "\n",
    "  - No emotion toward brand or product\n",
    "\n",
    "  - I can’t tell"
   ]
  },
  {
   "cell_type": "markdown",
   "id": "44a20966",
   "metadata": {},
   "source": [
    "## Features of the Deployed App\n",
    "\n",
    "Sticky header with Apple branding and project name\n",
    "\n",
    "Sidebar input area for entering tweets and getting predictions\n",
    "\n",
    "Color-coded sentiment prediction cards\n",
    "\n",
    "Visualization of sentiment class distribution using sample data\n",
    "\n",
    "Styled with custom CSS to enhance user experience"
   ]
  },
  {
   "cell_type": "markdown",
   "id": "cd65a6a4",
   "metadata": {},
   "source": [
    "## Deployment Outcome\n",
    "\n",
    "The app provides a clean, user-friendly interface for non-technical stakeholders to interact with the model.\n",
    "\n",
    "It demonstrates how the model can be used in real-time applications like brand monitoring dashboards or customer feedback tools."
   ]
  },
  {
   "cell_type": "markdown",
   "id": "a7237da6",
   "metadata": {},
   "source": [
    "## Future Scope\n",
    "\n",
    "Connect to the Twitter API for live tweet streaming and prediction\n",
    "\n",
    "Build a feedback loop to continuously improve model performance\n",
    "\n",
    "Deploy the app to a cloud platform for wider access"
   ]
  }
 ],
 "metadata": {
  "language_info": {
   "name": "python"
  }
 },
 "nbformat": 4,
 "nbformat_minor": 5
}
