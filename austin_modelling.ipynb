{
 "cells": [
  {
   "cell_type": "markdown",
   "id": "bb76325b",
   "metadata": {},
   "source": [
    "# Modelling Overview Introduction: Sentiment Analysis Pipeline Optimization\n",
    "This notebook explores a structured sentiment classification pipeline using textual data. \n",
    "The primary objectives are:\n",
    "- 🧠 Build a baseline model with `TF-IDF` and `Logistic Regression`\n",
    "\n",
    "- 🎯 Optimize model performance through `GridSearchCV`\n",
    "\n",
    "- 🌲 **Evaluate ensemble models** like Random Forest for deeper pattern extraction\n",
    "\n",
    "- 📊 Visualize key metrics including `accuracy`, `confusion matrices`, and feature importances\n",
    "\n",
    "- 🔍 Apply interpretability techniques to uncover influential features\n",
    "\n",
    "- 🧭 Provide actionable recommendations based on experimental results\n"
   ]
  },
  {
   "cell_type": "markdown",
   "id": "9a680909",
   "metadata": {},
   "source": [
    "## 1. Data Loading and inspection"
   ]
  },
  {
   "cell_type": "code",
   "execution_count": 106,
   "id": "b639837a",
   "metadata": {},
   "outputs": [
    {
     "data": {
      "text/html": [
       "<div>\n",
       "<style scoped>\n",
       "    .dataframe tbody tr th:only-of-type {\n",
       "        vertical-align: middle;\n",
       "    }\n",
       "\n",
       "    .dataframe tbody tr th {\n",
       "        vertical-align: top;\n",
       "    }\n",
       "\n",
       "    .dataframe thead th {\n",
       "        text-align: right;\n",
       "    }\n",
       "</style>\n",
       "<table border=\"1\" class=\"dataframe\">\n",
       "  <thead>\n",
       "    <tr style=\"text-align: right;\">\n",
       "      <th></th>\n",
       "      <th>tweet</th>\n",
       "      <th>product</th>\n",
       "      <th>tokens</th>\n",
       "      <th>processed_tweet</th>\n",
       "      <th>sentiment</th>\n",
       "    </tr>\n",
       "  </thead>\n",
       "  <tbody>\n",
       "    <tr>\n",
       "      <th>0</th>\n",
       "      <td>.@wesley83 I have a 3G iPhone. After 3 hrs twe...</td>\n",
       "      <td>iPhone</td>\n",
       "      <td>['g', 'iphon', 'hr', 'tweet', 'dead', 'need', ...</td>\n",
       "      <td>g iphon hr tweet dead need upgrad plugin station</td>\n",
       "      <td>Negative emotion</td>\n",
       "    </tr>\n",
       "    <tr>\n",
       "      <th>1</th>\n",
       "      <td>@jessedee Know about @fludapp ? Awesome iPad/i...</td>\n",
       "      <td>iPad or iPhone App</td>\n",
       "      <td>['know', 'awesom', 'ipadiphon', 'app', 'youll'...</td>\n",
       "      <td>know awesom ipadiphon app youll like appreci d...</td>\n",
       "      <td>Positive emotion</td>\n",
       "    </tr>\n",
       "    <tr>\n",
       "      <th>2</th>\n",
       "      <td>@swonderlin Can not wait for #iPad 2 also. The...</td>\n",
       "      <td>iPad</td>\n",
       "      <td>['wait', 'also', 'sale']</td>\n",
       "      <td>wait also sale</td>\n",
       "      <td>Positive emotion</td>\n",
       "    </tr>\n",
       "    <tr>\n",
       "      <th>3</th>\n",
       "      <td>@sxsw I hope this year's festival isn't as cra...</td>\n",
       "      <td>iPad or iPhone App</td>\n",
       "      <td>['hope', 'year', 'festiv', 'isnt', 'crashi', '...</td>\n",
       "      <td>hope year festiv isnt crashi year iphon app</td>\n",
       "      <td>Negative emotion</td>\n",
       "    </tr>\n",
       "    <tr>\n",
       "      <th>4</th>\n",
       "      <td>@sxtxstate great stuff on Fri #SXSW: Marissa M...</td>\n",
       "      <td>Google</td>\n",
       "      <td>['great', 'stuff', 'fri', 'marissa', 'mayer', ...</td>\n",
       "      <td>great stuff fri marissa mayer googl tim oreill...</td>\n",
       "      <td>Positive emotion</td>\n",
       "    </tr>\n",
       "  </tbody>\n",
       "</table>\n",
       "</div>"
      ],
      "text/plain": [
       "                                               tweet             product  \\\n",
       "0  .@wesley83 I have a 3G iPhone. After 3 hrs twe...              iPhone   \n",
       "1  @jessedee Know about @fludapp ? Awesome iPad/i...  iPad or iPhone App   \n",
       "2  @swonderlin Can not wait for #iPad 2 also. The...                iPad   \n",
       "3  @sxsw I hope this year's festival isn't as cra...  iPad or iPhone App   \n",
       "4  @sxtxstate great stuff on Fri #SXSW: Marissa M...              Google   \n",
       "\n",
       "                                              tokens  \\\n",
       "0  ['g', 'iphon', 'hr', 'tweet', 'dead', 'need', ...   \n",
       "1  ['know', 'awesom', 'ipadiphon', 'app', 'youll'...   \n",
       "2                           ['wait', 'also', 'sale']   \n",
       "3  ['hope', 'year', 'festiv', 'isnt', 'crashi', '...   \n",
       "4  ['great', 'stuff', 'fri', 'marissa', 'mayer', ...   \n",
       "\n",
       "                                     processed_tweet         sentiment  \n",
       "0   g iphon hr tweet dead need upgrad plugin station  Negative emotion  \n",
       "1  know awesom ipadiphon app youll like appreci d...  Positive emotion  \n",
       "2                                     wait also sale  Positive emotion  \n",
       "3        hope year festiv isnt crashi year iphon app  Negative emotion  \n",
       "4  great stuff fri marissa mayer googl tim oreill...  Positive emotion  "
      ]
     },
     "execution_count": 106,
     "metadata": {},
     "output_type": "execute_result"
    }
   ],
   "source": [
    "import pandas as pd\n",
    "\n",
    "tweets_cleaned_df = pd.read_csv('data/cleaned_apple_tweets.csv')\n",
    "tweets_cleaned_df.head()"
   ]
  },
  {
   "cell_type": "code",
   "execution_count": 93,
   "id": "17518e78",
   "metadata": {},
   "outputs": [
    {
     "data": {
      "text/plain": [
       "No emotion toward brand or product    5375\n",
       "Positive emotion                      2970\n",
       "Negative emotion                       569\n",
       "I can't tell                           156\n",
       "Name: sentiment, dtype: int64"
      ]
     },
     "execution_count": 93,
     "metadata": {},
     "output_type": "execute_result"
    }
   ],
   "source": [
    "tweets_cleaned_df['sentiment'].value_counts()"
   ]
  },
  {
   "cell_type": "markdown",
   "id": "9e4540d8",
   "metadata": {},
   "source": [
    "## Data Preprocessing "
   ]
  },
  {
   "cell_type": "code",
   "execution_count": 94,
   "id": "2b2f8fbd",
   "metadata": {},
   "outputs": [],
   "source": [
    "tweets_cleaned_df = tweets_cleaned_df.dropna(subset=['processed_tweet', 'sentiment'])  # Removes rows where text or label is missing"
   ]
  },
  {
   "cell_type": "code",
   "execution_count": 95,
   "id": "f76925f3",
   "metadata": {},
   "outputs": [],
   "source": [
    "# If your text column is still called 'text' or something similar:\n",
    "tweets_cleaned_df = tweets_cleaned_df.dropna(subset=['processed_tweet'])  # Removes rows with missing text\n",
    "# OR fill them with empty strings\n",
    "tweets_cleaned_df['processed_tweet'] = tweets_cleaned_df['processed_tweet'].fillna(\"\")"
   ]
  },
  {
   "cell_type": "markdown",
   "id": "817dee09",
   "metadata": {},
   "source": [
    "# Train_Test_split "
   ]
  },
  {
   "cell_type": "code",
   "execution_count": 96,
   "id": "fbeb4771",
   "metadata": {},
   "outputs": [],
   "source": [
    "X = tweets_cleaned_df['processed_tweet']\n",
    "y = tweets_cleaned_df['sentiment']\n",
    "\n",
    "X_train, X_test, y_train, y_test = train_test_split(X, y, test_size=0.2, random_state=42)"
   ]
  },
  {
   "cell_type": "markdown",
   "id": "53ce0a30",
   "metadata": {},
   "source": [
    "# Building the pipeline "
   ]
  },
  {
   "cell_type": "markdown",
   "id": "41b34142",
   "metadata": {},
   "source": [
    "### Import Necessary libraries to make sure all tools are available.because we are interested in creating a **pipeline structure** that is streamlined and modulates the code"
   ]
  },
  {
   "cell_type": "code",
   "execution_count": 97,
   "id": "60ab94c6",
   "metadata": {},
   "outputs": [],
   "source": [
    "import pandas as pd\n",
    "from sklearn.model_selection import train_test_split\n",
    "from sklearn.pipeline import Pipeline\n",
    "from sklearn.feature_extraction.text import TfidfVectorizer\n",
    "from sklearn.linear_model import LogisticRegression\n",
    "from sklearn.metrics import accuracy_score"
   ]
  },
  {
   "cell_type": "markdown",
   "id": "ee349111",
   "metadata": {},
   "source": [
    "## "
   ]
  },
  {
   "cell_type": "code",
   "execution_count": 98,
   "id": "fe10f71c",
   "metadata": {},
   "outputs": [],
   "source": [
    "pipeline = Pipeline([\n",
    "    ('tfidf' , TfidfVectorizer(stop_words ='english')), \n",
    "    ('classifier', LogisticRegression()),\n",
    "])"
   ]
  },
  {
   "cell_type": "code",
   "execution_count": 99,
   "id": "7953d484",
   "metadata": {},
   "outputs": [
    {
     "data": {
      "text/plain": [
       "Pipeline(steps=[('tfidf', TfidfVectorizer(stop_words='english')),\n",
       "                ('classifier', LogisticRegression())])"
      ]
     },
     "execution_count": 99,
     "metadata": {},
     "output_type": "execute_result"
    }
   ],
   "source": [
    "pipeline.fit(X_train, y_train)"
   ]
  },
  {
   "cell_type": "markdown",
   "id": "924cd795",
   "metadata": {},
   "source": [
    "# Predict and Evaluate Accuracy"
   ]
  },
  {
   "cell_type": "code",
   "execution_count": 100,
   "id": "137caf38",
   "metadata": {},
   "outputs": [
    {
     "name": "stdout",
     "output_type": "stream",
     "text": [
      "Model Accuracy: 68.58%\n"
     ]
    }
   ],
   "source": [
    "y_pred = pipeline.predict(X_test)\n",
    "accuracy = accuracy_score(y_test, y_pred)\n",
    "print(f\"Model Accuracy: {accuracy * 100:.2f}%\")"
   ]
  },
  {
   "cell_type": "markdown",
   "id": "493bf649",
   "metadata": {},
   "source": [
    "# Hyperparameter Tuning with GridSearchCV \n",
    "### We need to find the best parameters for our model inorder to evaluate its performance.With a **68%** baseline ,grid search will help uncover the optimal combination of `vectorizartion` and `logistic regression` parameters.\n",
    "### And finally get accurate predictions inorder to push our `accuracy` higher.\n",
    "\n",
    "## Tuning of :\n",
    "1. `max_df` :ignoring the wording that appear in too many documents.\n",
    "2. `ngram_range` :Unigrams vs bigrams \n",
    "3. `C` :Regularization strength of logistic regression.\n",
    "\n",
    "### This is to explore combination of texts features granularity and the model flexibility ."
   ]
  },
  {
   "cell_type": "code",
   "execution_count": 107,
   "id": "a1c0bce6",
   "metadata": {},
   "outputs": [],
   "source": [
    "from sklearn.model_selection import GridSearchCV    \n",
    "\n",
    "import warnings\n",
    "warnings.filterwarnings(\"ignore\")\n",
    "\n",
    "\n",
    "param_grid = {\n",
    "    'tfidf__max_df': [0.8, 0.9, 1.0],\n",
    "    'tfidf__ngram_range': [(1, 1), (1, 2)],\n",
    "    'classifier__C': [0.1, 1, 10]}"
   ]
  },
  {
   "cell_type": "markdown",
   "id": "f3b2730f",
   "metadata": {},
   "source": [
    "## Setting up Grid Search \n",
    "### `cv=5` applies 5 -fold **cross validation**. in `verbose=1` shows progress,`n_jobs= -1` uses cores to speed it up."
   ]
  },
  {
   "cell_type": "code",
   "execution_count": 102,
   "id": "68f1fcd5",
   "metadata": {},
   "outputs": [
    {
     "name": "stdout",
     "output_type": "stream",
     "text": [
      "Fitting 5 folds for each of 18 candidates, totalling 90 fits\n"
     ]
    },
    {
     "name": "stderr",
     "output_type": "stream",
     "text": [
      "[Parallel(n_jobs=-1)]: Using backend LokyBackend with 8 concurrent workers.\n",
      "[Parallel(n_jobs=-1)]: Done  34 tasks      | elapsed:   25.8s\n",
      "[Parallel(n_jobs=-1)]: Done  90 out of  90 | elapsed:  1.4min finished\n"
     ]
    },
    {
     "data": {
      "text/plain": [
       "GridSearchCV(cv=5,\n",
       "             estimator=Pipeline(steps=[('tfidf',\n",
       "                                        TfidfVectorizer(stop_words='english')),\n",
       "                                       ('classifier', LogisticRegression())]),\n",
       "             n_jobs=-1,\n",
       "             param_grid={'classifier__C': [0.1, 1, 10],\n",
       "                         'tfidf__max_df': [0.8, 0.9, 1.0],\n",
       "                         'tfidf__ngram_range': [(1, 1), (1, 2)]},\n",
       "             verbose=1)"
      ]
     },
     "execution_count": 102,
     "metadata": {},
     "output_type": "execute_result"
    }
   ],
   "source": [
    "grid = GridSearchCV(pipeline, param_grid, cv=5, verbose=1, n_jobs=-1)\n",
    "grid.fit(X_train, y_train)"
   ]
  },
  {
   "cell_type": "markdown",
   "id": "a633741d",
   "metadata": {},
   "source": [
    "## Evaluate the best model "
   ]
  },
  {
   "cell_type": "code",
   "execution_count": 103,
   "id": "af9ca48b",
   "metadata": {},
   "outputs": [
    {
     "name": "stdout",
     "output_type": "stream",
     "text": [
      "Best Parameters: {'classifier__C': 1, 'tfidf__max_df': 0.8, 'tfidf__ngram_range': (1, 2)}\n",
      "Accuracy: 0.6984564498346196\n",
      "Classification Report:\n",
      "                                     precision    recall  f1-score   support\n",
      "\n",
      "                      I can't tell       0.00      0.00      0.00        27\n",
      "                  Negative emotion       0.78      0.06      0.11       124\n",
      "No emotion toward brand or product       0.71      0.89      0.79      1091\n",
      "                  Positive emotion       0.65      0.51      0.57       572\n",
      "\n",
      "                          accuracy                           0.70      1814\n",
      "                         macro avg       0.54      0.36      0.37      1814\n",
      "                      weighted avg       0.69      0.70      0.66      1814\n",
      "\n"
     ]
    }
   ],
   "source": [
    "print(\"Best Parameters:\", grid.best_params_)\n",
    "\n",
    "y_pred = grid.predict(X_test)\n",
    "from sklearn.metrics import classification_report , accuracy_score\n",
    "\n",
    "print(\"Accuracy:\", accuracy_score(y_test, y_pred))\n",
    "print(\"Classification Report:\\n\", classification_report(y_test, y_pred))"
   ]
  },
  {
   "cell_type": "markdown",
   "id": "07b3fb96",
   "metadata": {},
   "source": [
    "## Visualize a **Heatmap** for our `GridSearchCV` \n",
    "### The heat map will show us different combination of parameters affected our model performance .Since `Gridser\\arch` stores all cross validation results in  `grid.cv_results_`, we'll extract them and plot a 2D matrix using `seaborn` \n",
    "### Tuning two **TF-IDF parameters** and one **logistic regresion** param :\n",
    "1. tfidf__max_df:[0.8,0.9,1.0]\n",
    "2. tfidf__ingram_range:[(1,1),(1,2)]\n",
    "3. clf__C:[0.1,1,10]\n",
    "### Extract the results and create the dataframe .The output will visualize how `ngram_range` and `max_df`interact  for a fixed `C`"
   ]
  },
  {
   "cell_type": "code",
   "execution_count": 104,
   "id": "710e86c9",
   "metadata": {},
   "outputs": [],
   "source": [
    "import pandas as pd \n",
    "results = pd.DataFrame(grid.cv_results_)\n",
    "results['params'] = results['params'].astype (str)\n",
    "\n",
    "# filter rows where clf __c ==1 for visualization\n",
    "subset = results[results['param_classifier__C'] == 1]\n",
    "\n",
    "#pivot to make a matrix of mean test scores \n",
    "heatmap_data = subset.pivot(\n",
    "    index='param_tfidf__max_df', \n",
    "    columns='param_tfidf__ngram_range',        \n",
    "    values='mean_test_score')"
   ]
  },
  {
   "cell_type": "markdown",
   "id": "9625608e",
   "metadata": {},
   "source": [
    "# Plot the heatmap"
   ]
  },
  {
   "cell_type": "code",
   "execution_count": 105,
   "id": "3d16f3f5",
   "metadata": {},
   "outputs": [
    {
     "data": {
      "image/png": "[encoded data removed]",
      "text/plain": [
       "<Figure size 720x432 with 2 Axes>"
      ]
     },
     "metadata": {
      "needs_background": "light"
     },
     "output_type": "display_data"
    }
   ],
   "source": [
    "import seaborn as sns \n",
    "import matplotlib.pyplot as plt \n",
    "\n",
    "plt.figure(figsize=(10, 6))\n",
    "sns.heatmap(heatmap_data, annot=True, cmap='YlGnBu', fmt='.2f')\n",
    "plt.title('Grid Search CV Accuracy scores Heatmap (C=1)')\n",
    "plt.xlabel('N-gram Range')\n",
    "plt.ylabel('Max DF')    \n",
    "plt.show()"
   ]
  },
  {
   "cell_type": "markdown",
   "id": "ba89a45b",
   "metadata": {},
   "source": [
    "## Conclusion.\n",
    "1. **Darker cells**= higher cross-validation accuracy\n",
    "2. Shows how different combinations of `max_df` and `ngram_range` affect performance\n",
    "3. We see visually which preprocessing choices helped your model thrive\n"
   ]
  },
  {
   "cell_type": "markdown",
   "id": "a785b45e",
   "metadata": {},
   "source": [
    "## Ensemble Method :Random Forest"
   ]
  },
  {
   "cell_type": "code",
   "execution_count": 109,
   "id": "4342504c",
   "metadata": {},
   "outputs": [
    {
     "data": {
      "text/plain": [
       "Pipeline(steps=[('tfidf', TfidfVectorizer(stop_words='english')),\n",
       "                ('classifier', RandomForestClassifier())])"
      ]
     },
     "execution_count": 109,
     "metadata": {},
     "output_type": "execute_result"
    }
   ],
   "source": [
    "#switching to a new model \n",
    "from sklearn.ensemble import RandomForestClassifier\n",
    "\n",
    "pipeline.set_params(classifier=RandomForestClassifier())"
   ]
  },
  {
   "cell_type": "markdown",
   "id": "b8a39b8f",
   "metadata": {},
   "source": [
    "### Train the Model"
   ]
  },
  {
   "cell_type": "code",
   "execution_count": 111,
   "id": "da769f9a",
   "metadata": {},
   "outputs": [
    {
     "data": {
      "text/plain": [
       "Pipeline(steps=[('tfidf', TfidfVectorizer(stop_words='english')),\n",
       "                ('classifier', RandomForestClassifier())])"
      ]
     },
     "execution_count": 111,
     "metadata": {},
     "output_type": "execute_result"
    }
   ],
   "source": [
    "pipeline.fit(X_train, y_train)"
   ]
  },
  {
   "cell_type": "markdown",
   "id": "4022bf1b",
   "metadata": {},
   "source": [
    "### Performance evaluation "
   ]
  },
  {
   "cell_type": "code",
   "execution_count": 112,
   "id": "8d23f441",
   "metadata": {},
   "outputs": [
    {
     "name": "stdout",
     "output_type": "stream",
     "text": [
      "Accuracy 0.6984564498346196\n",
      "Classification Report:\n",
      "                                     precision    recall  f1-score   support\n",
      "\n",
      "                      I can't tell       0.00      0.00      0.00        27\n",
      "                  Negative emotion       0.78      0.06      0.11       124\n",
      "No emotion toward brand or product       0.71      0.89      0.79      1091\n",
      "                  Positive emotion       0.65      0.51      0.57       572\n",
      "\n",
      "                          accuracy                           0.70      1814\n",
      "                         macro avg       0.54      0.36      0.37      1814\n",
      "                      weighted avg       0.69      0.70      0.66      1814\n",
      "\n"
     ]
    }
   ],
   "source": [
    "from sklearn.metrics import accuracy_score, confusion_matrix, ConfusionMatrixDisplay\n",
    "print(\"Accuracy\", accuracy_score(y_test, y_pred))\n",
    "print(\"Classification Report:\\n\", classification_report(y_test, y_pred))"
   ]
  },
  {
   "cell_type": "markdown",
   "id": "d9162e7b",
   "metadata": {},
   "source": [
    "## Summary of Modelling Overview"
   ]
  },
  {
   "cell_type": "markdown",
   "id": "02876a83",
   "metadata": {},
   "source": [
    "1. Baseline Model: `Logistic regression` with `TF-IDF` vectorization; achieved ~68% accuracy.\n",
    "2. `Grid Search Tuning`: Explored **ngram_range**, **max_df**, and **C**; highest accuracy ~68% .\n",
    "3. Visualization Layer: `Heatmaps for parameter tuning` and confusion matrices enhanced interpretability.\n",
    "\n",
    "## Conclusion of Modelling \n",
    "1. **Model’s best performance (68%)** suggests good initial generalization, especially when tuned.\n",
    "2. `Grid search` reveals preprocessing choices have a **significant impact on performance.**\n",
    "3. **Ensemble models** like `Random Forest` offer a promising direction, especially when paired with deeper cleaning and `feature selection`.\n",
    "4. **Visualization—heatmaps** and **confusion matrices**—makes it easier to communicate insights and justify modeling decisions.\n",
    "5. The **pipeline-based workflow** is robust, reproducible, and ready for **integration** into future datasets or dashboard-style applications.\n"
   ]
  },
  {
   "cell_type": "markdown",
   "id": "6f44d10d",
   "metadata": {},
   "source": [
    "# Feature engineering"
   ]
  },
  {
   "cell_type": "code",
   "execution_count": null,
   "id": "aae1807f",
   "metadata": {},
   "outputs": [],
   "source": []
  }
 ],
 "metadata": {
  "kernelspec": {
   "display_name": "learn-env",
   "language": "python",
   "name": "python3"
  },
  "language_info": {
   "codemirror_mode": {
    "name": "ipython",
    "version": 3
   },
   "file_extension": ".py",
   "mimetype": "text/x-python",
   "name": "python",
   "nbconvert_exporter": "python",
   "pygments_lexer": "ipython3",
   "version": "3.8.5"
  }
 },
 "nbformat": 4,
 "nbformat_minor": 5
}
