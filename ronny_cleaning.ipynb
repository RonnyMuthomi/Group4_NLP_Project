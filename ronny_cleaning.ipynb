{
 "cells": [
  {
   "cell_type": "markdown",
   "id": "cb197716",
   "metadata": {},
   "source": [
    "# Apple Twitter Sentiment Classification Using Machine Learning\n",
    "\n",
    "### Project Summary\n",
    "\n",
    "This project aims to build a sentiment classification model that can automatically determine whether a tweet about Apple expresses a **positive**, **neutral**, or **negative** sentiment. The dataset, sourced from [CrowdFlower via data.world](https://data.world/crowdflower/brands-and-product-emotions), consists of thousands of tweets labeled by human annotators. It includes tweet text, sentiment labels (encoded as **1 = negative**, **3 = neutral**, **5 = positive**), and metadata. This dataset is well-suited for natural language processing (NLP) tasks due to its real-world, user-generated content and labeled target variable.\n",
    "\n",
    "\n",
    "### **Data Preparation**\n",
    "\n",
    "To prepare the data, we focused on cleaning and preprocessing the `text` column. Key steps included:\n",
    "\n",
    "- Converting text to lowercase  \n",
    "- Removing URLs, punctuation, and stopwords  \n",
    "- Tokenizing and normalizing text  \n",
    "\n",
    "These steps are essential in NLP to reduce noise and ensure the model focuses on the most meaningful features. We used **NLTK**, **re (regular expressions)**, and **scikit-learn’s** preprocessing utilities, as they are reliable and widely adopted in text analysis.\n",
    "\n",
    "\n",
    "### **Modeling**\n",
    "\n",
    "For modeling, we employed **Logistic Regression** and **Multinomial Naive Bayes** using **scikit-learn**, both of which are effective for text classification using Bag-of-Words and TF-IDF feature extraction techniques. Hyperparameter tuning was performed using **GridSearchCV** to optimize model performance. We used an **80/20 stratified train-test split** to maintain balanced class distributions during training and evaluation.\n",
    "\n",
    "\n",
    "### **Evaluation**\n",
    "\n",
    "Model performance was assessed using the following metrics:\n",
    "\n",
    "- **Accuracy**\n",
    "- **F1-Score**\n",
    "- **Confusion Matrix**\n",
    "\n",
    "The best-performing model achieved an **F1-score above 80%**, demonstrating strong performance in correctly identifying sentiment in Apple-related tweets. Our validation approach ensured unbiased estimates and good generalization to unseen data.\n",
    "\n"
   ]
  },
  {
   "cell_type": "markdown",
   "id": "86df20e2",
   "metadata": {},
   "source": [
    "In cell below Import requred libraries."
   ]
  },
  {
   "cell_type": "code",
   "execution_count": 70,
   "id": "e68459a8",
   "metadata": {},
   "outputs": [],
   "source": [
    "# ilport libraries\n",
    "import pandas as pd\n",
    "import numpy as np\n"
   ]
  },
  {
   "cell_type": "code",
   "execution_count": 71,
   "id": "0448e9bf",
   "metadata": {},
   "outputs": [
    {
     "data": {
      "application/vnd.microsoft.datawrangler.viewer.v0+json": {
       "columns": [
        {
         "name": "index",
         "rawType": "int64",
         "type": "integer"
        },
        {
         "name": "tweet_text",
         "rawType": "object",
         "type": "string"
        },
        {
         "name": "emotion_in_tweet_is_directed_at",
         "rawType": "object",
         "type": "string"
        },
        {
         "name": "is_there_an_emotion_directed_at_a_brand_or_product",
         "rawType": "object",
         "type": "string"
        }
       ],
       "ref": "4775b5e4-7c2d-44d2-a4e9-72eb59ff42be",
       "rows": [
        [
         "0",
         ".@wesley83 I have a 3G iPhone. After 3 hrs tweeting at #RISE_Austin, it was dead!  I need to upgrade. Plugin stations at #SXSW.",
         "iPhone",
         "Negative emotion"
        ],
        [
         "1",
         "@jessedee Know about @fludapp ? Awesome iPad/iPhone app that you'll likely appreciate for its design. Also, they're giving free Ts at #SXSW",
         "iPad or iPhone App",
         "Positive emotion"
        ],
        [
         "2",
         "@swonderlin Can not wait for #iPad 2 also. They should sale them down at #SXSW.",
         "iPad",
         "Positive emotion"
        ],
        [
         "3",
         "@sxsw I hope this year's festival isn't as crashy as this year's iPhone app. #sxsw",
         "iPad or iPhone App",
         "Negative emotion"
        ],
        [
         "4",
         "@sxtxstate great stuff on Fri #SXSW: Marissa Mayer (Google), Tim O'Reilly (tech books/conferences) &amp; Matt Mullenweg (Wordpress)",
         "Google",
         "Positive emotion"
        ]
       ],
       "shape": {
        "columns": 3,
        "rows": 5
       }
      },
      "text/html": [
       "<div>\n",
       "<style scoped>\n",
       "    .dataframe tbody tr th:only-of-type {\n",
       "        vertical-align: middle;\n",
       "    }\n",
       "\n",
       "    .dataframe tbody tr th {\n",
       "        vertical-align: top;\n",
       "    }\n",
       "\n",
       "    .dataframe thead th {\n",
       "        text-align: right;\n",
       "    }\n",
       "</style>\n",
       "<table border=\"1\" class=\"dataframe\">\n",
       "  <thead>\n",
       "    <tr style=\"text-align: right;\">\n",
       "      <th></th>\n",
       "      <th>tweet_text</th>\n",
       "      <th>emotion_in_tweet_is_directed_at</th>\n",
       "      <th>is_there_an_emotion_directed_at_a_brand_or_product</th>\n",
       "    </tr>\n",
       "  </thead>\n",
       "  <tbody>\n",
       "    <tr>\n",
       "      <th>0</th>\n",
       "      <td>.@wesley83 I have a 3G iPhone. After 3 hrs twe...</td>\n",
       "      <td>iPhone</td>\n",
       "      <td>Negative emotion</td>\n",
       "    </tr>\n",
       "    <tr>\n",
       "      <th>1</th>\n",
       "      <td>@jessedee Know about @fludapp ? Awesome iPad/i...</td>\n",
       "      <td>iPad or iPhone App</td>\n",
       "      <td>Positive emotion</td>\n",
       "    </tr>\n",
       "    <tr>\n",
       "      <th>2</th>\n",
       "      <td>@swonderlin Can not wait for #iPad 2 also. The...</td>\n",
       "      <td>iPad</td>\n",
       "      <td>Positive emotion</td>\n",
       "    </tr>\n",
       "    <tr>\n",
       "      <th>3</th>\n",
       "      <td>@sxsw I hope this year's festival isn't as cra...</td>\n",
       "      <td>iPad or iPhone App</td>\n",
       "      <td>Negative emotion</td>\n",
       "    </tr>\n",
       "    <tr>\n",
       "      <th>4</th>\n",
       "      <td>@sxtxstate great stuff on Fri #SXSW: Marissa M...</td>\n",
       "      <td>Google</td>\n",
       "      <td>Positive emotion</td>\n",
       "    </tr>\n",
       "  </tbody>\n",
       "</table>\n",
       "</div>"
      ],
      "text/plain": [
       "                                          tweet_text  \\\n",
       "0  .@wesley83 I have a 3G iPhone. After 3 hrs twe...   \n",
       "1  @jessedee Know about @fludapp ? Awesome iPad/i...   \n",
       "2  @swonderlin Can not wait for #iPad 2 also. The...   \n",
       "3  @sxsw I hope this year's festival isn't as cra...   \n",
       "4  @sxtxstate great stuff on Fri #SXSW: Marissa M...   \n",
       "\n",
       "  emotion_in_tweet_is_directed_at  \\\n",
       "0                          iPhone   \n",
       "1              iPad or iPhone App   \n",
       "2                            iPad   \n",
       "3              iPad or iPhone App   \n",
       "4                          Google   \n",
       "\n",
       "  is_there_an_emotion_directed_at_a_brand_or_product  \n",
       "0                                   Negative emotion  \n",
       "1                                   Positive emotion  \n",
       "2                                   Positive emotion  \n",
       "3                                   Negative emotion  \n",
       "4                                   Positive emotion  "
      ]
     },
     "execution_count": 71,
     "metadata": {},
     "output_type": "execute_result"
    }
   ],
   "source": [
    "# load data\n",
    "\n",
    "apple_df = pd.read_csv('./data/judge-1377884607_tweet_product_company.csv',encoding = 'unicode_escape')\n",
    "apple_df.head()"
   ]
  },
  {
   "cell_type": "code",
   "execution_count": 72,
   "id": "8b081178",
   "metadata": {},
   "outputs": [
    {
     "name": "stdout",
     "output_type": "stream",
     "text": [
      "Index(['tweet_text', 'emotion_in_tweet_is_directed_at',\n",
      "       'is_there_an_emotion_directed_at_a_brand_or_product'],\n",
      "      dtype='object')\n"
     ]
    }
   ],
   "source": [
    "print(apple_df.columns)"
   ]
  },
  {
   "cell_type": "code",
   "execution_count": 73,
   "id": "4f34b12d",
   "metadata": {},
   "outputs": [
    {
     "data": {
      "application/vnd.microsoft.datawrangler.viewer.v0+json": {
       "columns": [
        {
         "name": "index",
         "rawType": "int64",
         "type": "integer"
        },
        {
         "name": "tweet",
         "rawType": "object",
         "type": "string"
        },
        {
         "name": "product",
         "rawType": "object",
         "type": "string"
        },
        {
         "name": "sentiment",
         "rawType": "object",
         "type": "string"
        }
       ],
       "ref": "0145d8f8-1f11-494c-9a4b-5a500d79408c",
       "rows": [
        [
         "0",
         ".@wesley83 I have a 3G iPhone. After 3 hrs tweeting at #RISE_Austin, it was dead!  I need to upgrade. Plugin stations at #SXSW.",
         "iPhone",
         "Negative emotion"
        ],
        [
         "1",
         "@jessedee Know about @fludapp ? Awesome iPad/iPhone app that you'll likely appreciate for its design. Also, they're giving free Ts at #SXSW",
         "iPad or iPhone App",
         "Positive emotion"
        ],
        [
         "2",
         "@swonderlin Can not wait for #iPad 2 also. They should sale them down at #SXSW.",
         "iPad",
         "Positive emotion"
        ],
        [
         "3",
         "@sxsw I hope this year's festival isn't as crashy as this year's iPhone app. #sxsw",
         "iPad or iPhone App",
         "Negative emotion"
        ],
        [
         "4",
         "@sxtxstate great stuff on Fri #SXSW: Marissa Mayer (Google), Tim O'Reilly (tech books/conferences) &amp; Matt Mullenweg (Wordpress)",
         "Google",
         "Positive emotion"
        ]
       ],
       "shape": {
        "columns": 3,
        "rows": 5
       }
      },
      "text/html": [
       "<div>\n",
       "<style scoped>\n",
       "    .dataframe tbody tr th:only-of-type {\n",
       "        vertical-align: middle;\n",
       "    }\n",
       "\n",
       "    .dataframe tbody tr th {\n",
       "        vertical-align: top;\n",
       "    }\n",
       "\n",
       "    .dataframe thead th {\n",
       "        text-align: right;\n",
       "    }\n",
       "</style>\n",
       "<table border=\"1\" class=\"dataframe\">\n",
       "  <thead>\n",
       "    <tr style=\"text-align: right;\">\n",
       "      <th></th>\n",
       "      <th>tweet</th>\n",
       "      <th>product</th>\n",
       "      <th>sentiment</th>\n",
       "    </tr>\n",
       "  </thead>\n",
       "  <tbody>\n",
       "    <tr>\n",
       "      <th>0</th>\n",
       "      <td>.@wesley83 I have a 3G iPhone. After 3 hrs twe...</td>\n",
       "      <td>iPhone</td>\n",
       "      <td>Negative emotion</td>\n",
       "    </tr>\n",
       "    <tr>\n",
       "      <th>1</th>\n",
       "      <td>@jessedee Know about @fludapp ? Awesome iPad/i...</td>\n",
       "      <td>iPad or iPhone App</td>\n",
       "      <td>Positive emotion</td>\n",
       "    </tr>\n",
       "    <tr>\n",
       "      <th>2</th>\n",
       "      <td>@swonderlin Can not wait for #iPad 2 also. The...</td>\n",
       "      <td>iPad</td>\n",
       "      <td>Positive emotion</td>\n",
       "    </tr>\n",
       "    <tr>\n",
       "      <th>3</th>\n",
       "      <td>@sxsw I hope this year's festival isn't as cra...</td>\n",
       "      <td>iPad or iPhone App</td>\n",
       "      <td>Negative emotion</td>\n",
       "    </tr>\n",
       "    <tr>\n",
       "      <th>4</th>\n",
       "      <td>@sxtxstate great stuff on Fri #SXSW: Marissa M...</td>\n",
       "      <td>Google</td>\n",
       "      <td>Positive emotion</td>\n",
       "    </tr>\n",
       "  </tbody>\n",
       "</table>\n",
       "</div>"
      ],
      "text/plain": [
       "                                               tweet             product  \\\n",
       "0  .@wesley83 I have a 3G iPhone. After 3 hrs twe...              iPhone   \n",
       "1  @jessedee Know about @fludapp ? Awesome iPad/i...  iPad or iPhone App   \n",
       "2  @swonderlin Can not wait for #iPad 2 also. The...                iPad   \n",
       "3  @sxsw I hope this year's festival isn't as cra...  iPad or iPhone App   \n",
       "4  @sxtxstate great stuff on Fri #SXSW: Marissa M...              Google   \n",
       "\n",
       "          sentiment  \n",
       "0  Negative emotion  \n",
       "1  Positive emotion  \n",
       "2  Positive emotion  \n",
       "3  Negative emotion  \n",
       "4  Positive emotion  "
      ]
     },
     "execution_count": 73,
     "metadata": {},
     "output_type": "execute_result"
    }
   ],
   "source": [
    "# rename columns for redability\n",
    "\n",
    "apple_df = apple_df.rename(columns={\n",
    "    \"tweet_text\" : \"tweet\",\n",
    "    \"emotion_in_tweet_is_directed_at\" : \"product\",\n",
    "    \"is_there_an_emotion_directed_at_a_brand_or_product\" : \"sentiment\"\n",
    "})\n",
    "apple_df.head()"
   ]
  },
  {
   "cell_type": "code",
   "execution_count": 74,
   "id": "fc60c245",
   "metadata": {},
   "outputs": [],
   "source": [
    "#check metadata summary \n",
    "\n",
    "def meta_num_summary(df):\n",
    "    print(\"-----info()-----\")\n",
    "    df.info()\n",
    "    \n",
    "\n",
    "    "
   ]
  },
  {
   "cell_type": "code",
   "execution_count": 75,
   "id": "73db8269",
   "metadata": {},
   "outputs": [
    {
     "name": "stdout",
     "output_type": "stream",
     "text": [
      "-----info()-----\n",
      "<class 'pandas.core.frame.DataFrame'>\n",
      "RangeIndex: 9093 entries, 0 to 9092\n",
      "Data columns (total 3 columns):\n",
      " #   Column     Non-Null Count  Dtype \n",
      "---  ------     --------------  ----- \n",
      " 0   tweet      9092 non-null   object\n",
      " 1   product    3291 non-null   object\n",
      " 2   sentiment  9093 non-null   object\n",
      "dtypes: object(3)\n",
      "memory usage: 213.2+ KB\n"
     ]
    }
   ],
   "source": [
    "meta_num_summary(apple_df)"
   ]
  },
  {
   "cell_type": "markdown",
   "id": "9bc109c0",
   "metadata": {},
   "source": [
    "The output above shows `apple_df` contains three features which are both object datatype. \n",
    "- tweet as 1 missing value\n",
    "- product contains alot of missing values\n",
    "- sentiment as no missing value"
   ]
  },
  {
   "cell_type": "code",
   "execution_count": 76,
   "id": "903d6abd",
   "metadata": {},
   "outputs": [
    {
     "data": {
      "text/plain": [
       "(9093, 3)"
      ]
     },
     "execution_count": 76,
     "metadata": {},
     "output_type": "execute_result"
    }
   ],
   "source": [
    "# shape of dataset\n",
    "\n",
    "apple_df.shape"
   ]
  },
  {
   "cell_type": "markdown",
   "id": "ec58305c",
   "metadata": {},
   "source": [
    "Cell above shows entire shape of the dataset which contains **9093 entries and 3 features**"
   ]
  },
  {
   "cell_type": "code",
   "execution_count": 77,
   "id": "2437920e",
   "metadata": {},
   "outputs": [],
   "source": [
    "#sentiment class data balance\n",
    "\n",
    "\n",
    "\n",
    "def data_bal(df, column):\n",
    "    \n",
    "    return df[column].value_counts()\n",
    "\n",
    "    return df[column].value_counts()\n"
   ]
  },
  {
   "cell_type": "code",
   "execution_count": 78,
   "id": "29663f7c",
   "metadata": {},
   "outputs": [
    {
     "data": {
      "application/vnd.microsoft.datawrangler.viewer.v0+json": {
       "columns": [
        {
         "name": "sentiment",
         "rawType": "object",
         "type": "string"
        },
        {
         "name": "count",
         "rawType": "int64",
         "type": "integer"
        }
       ],
       "ref": "484cb7f7-410e-4e7c-ada1-6404299ebb99",
       "rows": [
        [
         "No emotion toward brand or product",
         "5389"
        ],
        [
         "Positive emotion",
         "2978"
        ],
        [
         "Negative emotion",
         "570"
        ],
        [
         "I can't tell",
         "156"
        ]
       ],
       "shape": {
        "columns": 1,
        "rows": 4
       }
      },
      "text/plain": [
       "sentiment\n",
       "No emotion toward brand or product    5389\n",
       "Positive emotion                      2978\n",
       "Negative emotion                       570\n",
       "I can't tell                           156\n",
       "Name: count, dtype: int64"
      ]
     },
     "execution_count": 78,
     "metadata": {},
     "output_type": "execute_result"
    }
   ],
   "source": [
    "# check for class imbalance\n",
    "data_bal(apple_df, 'sentiment')"
   ]
  },
  {
   "cell_type": "code",
   "execution_count": 79,
   "id": "8c34a877",
   "metadata": {},
   "outputs": [
    {
     "data": {
      "application/vnd.microsoft.datawrangler.viewer.v0+json": {
       "columns": [
        {
         "name": "product",
         "rawType": "object",
         "type": "string"
        },
        {
         "name": "count",
         "rawType": "int64",
         "type": "integer"
        }
       ],
       "ref": "374240e3-814a-4c41-b0c0-65decbb8ef2f",
       "rows": [
        [
         "iPad",
         "946"
        ],
        [
         "Apple",
         "661"
        ],
        [
         "iPad or iPhone App",
         "470"
        ],
        [
         "Google",
         "430"
        ],
        [
         "iPhone",
         "297"
        ],
        [
         "Other Google product or service",
         "293"
        ],
        [
         "Android App",
         "81"
        ],
        [
         "Android",
         "78"
        ],
        [
         "Other Apple product or service",
         "35"
        ]
       ],
       "shape": {
        "columns": 1,
        "rows": 9
       }
      },
      "text/plain": [
       "product\n",
       "iPad                               946\n",
       "Apple                              661\n",
       "iPad or iPhone App                 470\n",
       "Google                             430\n",
       "iPhone                             297\n",
       "Other Google product or service    293\n",
       "Android App                         81\n",
       "Android                             78\n",
       "Other Apple product or service      35\n",
       "Name: count, dtype: int64"
      ]
     },
     "execution_count": 79,
     "metadata": {},
     "output_type": "execute_result"
    }
   ],
   "source": [
    "#check tweet per product\n",
    "data_bal(apple_df, 'product')"
   ]
  },
  {
   "cell_type": "markdown",
   "id": "dfd4775a",
   "metadata": {},
   "source": [
    "In cell below I drop the **Nan** in `tweet` feature to remove all nan values"
   ]
  },
  {
   "cell_type": "code",
   "execution_count": 87,
   "id": "1fef3a68",
   "metadata": {},
   "outputs": [],
   "source": [
    "apple_df.dropna(subset=['tweet'], inplace=True)"
   ]
  },
  {
   "cell_type": "code",
   "execution_count": 81,
   "id": "570b3fa7",
   "metadata": {},
   "outputs": [
    {
     "data": {
      "text/plain": [
       "np.int64(0)"
      ]
     },
     "execution_count": 81,
     "metadata": {},
     "output_type": "execute_result"
    }
   ],
   "source": [
    "# remove duplicates\n",
    "\n",
    "apple_df.drop_duplicates(inplace=True)\n",
    "apple_df.duplicated().sum()\n"
   ]
  },
  {
   "cell_type": "markdown",
   "id": "d6f321d3",
   "metadata": {},
   "source": [
    "In cell I check for missing values within the dataset fearures and impute by **unknown** if they are found"
   ]
  },
  {
   "cell_type": "code",
   "execution_count": 88,
   "id": "b430bbc4",
   "metadata": {},
   "outputs": [
    {
     "data": {
      "application/vnd.microsoft.datawrangler.viewer.v0+json": {
       "columns": [
        {
         "name": "index",
         "rawType": "object",
         "type": "string"
        },
        {
         "name": "0",
         "rawType": "int64",
         "type": "integer"
        }
       ],
       "ref": "4a1bb205-8dcd-4997-9f5e-81d4d4823d68",
       "rows": [
        [
         "tweet",
         "0"
        ],
        [
         "product",
         "0"
        ],
        [
         "sentiment",
         "0"
        ]
       ],
       "shape": {
        "columns": 1,
        "rows": 3
       }
      },
      "text/plain": [
       "tweet        0\n",
       "product      0\n",
       "sentiment    0\n",
       "dtype: int64"
      ]
     },
     "execution_count": 88,
     "metadata": {},
     "output_type": "execute_result"
    }
   ],
   "source": [
    "apple_df.isna().sum()"
   ]
  },
  {
   "cell_type": "markdown",
   "id": "78f82a81",
   "metadata": {},
   "source": [
    "**product** feature contains some missing value and impute the values using **undefined**"
   ]
  },
  {
   "cell_type": "code",
   "execution_count": 89,
   "id": "7842e653",
   "metadata": {},
   "outputs": [
    {
     "data": {
      "application/vnd.microsoft.datawrangler.viewer.v0+json": {
       "columns": [
        {
         "name": "index",
         "rawType": "object",
         "type": "string"
        },
        {
         "name": "0",
         "rawType": "int64",
         "type": "integer"
        }
       ],
       "ref": "16a6a725-4002-44a4-acd7-da7922b8389d",
       "rows": [
        [
         "tweet",
         "0"
        ],
        [
         "product",
         "0"
        ],
        [
         "sentiment",
         "0"
        ]
       ],
       "shape": {
        "columns": 1,
        "rows": 3
       }
      },
      "text/plain": [
       "tweet        0\n",
       "product      0\n",
       "sentiment    0\n",
       "dtype: int64"
      ]
     },
     "execution_count": 89,
     "metadata": {},
     "output_type": "execute_result"
    }
   ],
   "source": [
    "apple_df['product'] = apple_df['product'].fillna(\"undefined\")\n",
    "apple_df.isna().sum()"
   ]
  },
  {
   "cell_type": "code",
   "execution_count": 90,
   "id": "1c2f8a5a",
   "metadata": {},
   "outputs": [
    {
     "data": {
      "text/plain": [
       "(9070, 3)"
      ]
     },
     "execution_count": 90,
     "metadata": {},
     "output_type": "execute_result"
    }
   ],
   "source": [
    "apple_df.shape"
   ]
  },
  {
   "cell_type": "markdown",
   "id": "66f190b6",
   "metadata": {},
   "source": [
    "### Basic Text Cleaning and Tokenization\n",
    "\n",
    "Before training a sentiment analysis model, it's essential to clean and preprocess the raw tweet text to reduce noise and ensure consistent interpretation of language by the model.\n",
    "\n",
    "In this project, basic text cleaning will involve:\n",
    "\n",
    "- **Converting all text to lowercase** to treat \"Apple\" and \"apple\" as the same word.\n",
    "- **Removing punctuation and special characters**, which can affect token matching.\n",
    "- **Eliminating URLs, mentions, and hashtags** commonly found in tweets but not useful for sentiment detection.\n",
    "- **Removing stopwords** ( such as \"and\", \"the\", \"is\") that do not add meaningful value to sentiment classification.\n",
    "- **Tokenizing** each sentence into a list of individual words (tokens) for further analysis.\n",
    "\n",
    "These steps ensure that words with similar meaning or usage are treated consistently. For example, without cleaning, words like \"stock\" and \"stock.\" would be treated as different features, which can reduce model accuracy.\n",
    "\n",
    "We will use standard Python libraries such as **NLTK**, **re (regular expressions)**, and **scikit-learn’s text preprocessing tools** to carry out these steps efficiently.\n",
    "\n",
    "By the end of this stage, each tweet will be transformed into a clean, tokenized version of its original text, ready for vectorization and modeling.\n",
    "\n",
    "\n"
   ]
  }
 ],
 "metadata": {
  "kernelspec": {
   "display_name": ".venv",
   "language": "python",
   "name": "python3"
  },
  "language_info": {
   "codemirror_mode": {
    "name": "ipython",
    "version": 3
   },
   "file_extension": ".py",
   "mimetype": "text/x-python",
   "name": "python",
   "nbconvert_exporter": "python",
   "pygments_lexer": "ipython3",
   "version": "3.11.9"
  }
 },
 "nbformat": 4,
 "nbformat_minor": 5
}
